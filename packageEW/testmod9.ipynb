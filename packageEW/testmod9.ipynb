{
 "cells": [
  {
   "cell_type": "code",
   "execution_count": 9,
   "id": "0a03ef6b-5f64-4632-a8c5-331f6f656896",
   "metadata": {},
   "outputs": [
    {
     "name": "stdout",
     "output_type": "stream",
     "text": [
      "/Users/elisa/Docs/MSDS/DS5100/DS5100-2023-07-R/notebooks/packageEW/Demo\n"
     ]
    }
   ],
   "source": [
    "cd Demo"
   ]
  },
  {
   "cell_type": "code",
   "execution_count": 11,
   "id": "4e8ade28-9869-4211-8384-0cc8d093071e",
   "metadata": {},
   "outputs": [],
   "source": [
    "from Module1 import funct1"
   ]
  },
  {
   "cell_type": "code",
   "execution_count": 12,
   "id": "d9f1cea9-8b80-4128-8ad5-0ac9f6a52cda",
   "metadata": {},
   "outputs": [
    {
     "name": "stdout",
     "output_type": "stream",
     "text": [
      "Testing Module\n"
     ]
    }
   ],
   "source": [
    "funct1()"
   ]
  },
  {
   "cell_type": "code",
   "execution_count": null,
   "id": "96cc52cc-02c7-448a-9e2c-53aea1da6ba7",
   "metadata": {},
   "outputs": [],
   "source": []
  }
 ],
 "metadata": {
  "kernelspec": {
   "display_name": "Python 3 (ipykernel)",
   "language": "python",
   "name": "python3"
  },
  "language_info": {
   "codemirror_mode": {
    "name": "ipython",
    "version": 3
   },
   "file_extension": ".py",
   "mimetype": "text/x-python",
   "name": "python",
   "nbconvert_exporter": "python",
   "pygments_lexer": "ipython3",
   "version": "3.10.8"
  }
 },
 "nbformat": 4,
 "nbformat_minor": 5
}
